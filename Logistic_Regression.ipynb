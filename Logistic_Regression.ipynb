{
  "nbformat": 4,
  "nbformat_minor": 0,
  "metadata": {
    "colab": {
      "provenance": []
    },
    "kernelspec": {
      "name": "python3",
      "display_name": "Python 3"
    },
    "language_info": {
      "name": "python"
    }
  },
  "cells": [
    {
      "cell_type": "markdown",
      "source": [
        "1.\tWhat is Logistic Regression, and how does it differ from Linear Regression\n",
        "\n",
        "Ans - Logistic Regression is a statistical method for predicting binary outcomes (1/0, Yes/No, True/False) from input features. It differs from Linear Regression in that it uses the logistic (sigmoid) function to predict probabilities, ensuring outputs between 0 and 1, whereas Linear Regression predicts continuous values which can be negative or greater than 1.\n",
        "\n",
        "2. What is the mathematical equation of Logistic Regression\n",
        "\n",
        "Ans - The mathematical equation for Logistic Regression is:\n",
        "P(Y=1|X) = 1 / (1 + e^-(β0 + β1X1 + β2X2 + ... + βnXn))\n",
        "\n",
        "3. Why do we use the Sigmoid function in Logistic Regression\n",
        "\n",
        "Ans - We use the sigmoid function in Logistic Regression because it maps any real-valued number into the range [0, 1], making it ideal for modeling probabilities.\n",
        "\n",
        "4. What is the cost function of Logistic Regression\n",
        "\n",
        "Ans - The cost function used is the Log Loss (Binary Cross-Entropy):\n",
        "Cost = -1/m * Σ [y*log(h) + (1−y)*log(1−h)]\n",
        "where h = sigmoid(Xβ).\n",
        "\n",
        "5. What is Regularization in Logistic Regression? Why is it needed\n",
        "\n",
        "Ans - Regularization is a technique to prevent overfitting by adding a penalty to the loss function. It helps in reducing model complexity and improving generalization.\n",
        "\n",
        "6. Explain the difference between Lasso, Ridge, and Elastic Net regression\n",
        "\n",
        "Ans - Lasso (L1) adds the absolute value of coefficients as penalty, encouraging sparsity. Ridge (L2) adds squared values of coefficients, shrinking them but not to zero. Elastic Net combines both L1 and L2 penalties.\n",
        "\n",
        "7. When should we use Elastic Net instead of Lasso or Ridge\n",
        "\n",
        "Ans - Elastic Net is preferred when we have many correlated features. It combines the strengths of both Lasso (feature selection) and Ridge (handling multicollinearity).\n",
        "\n",
        "8. What is the impact of the regularization parameter (λ) in Logistic Regression\n",
        "\n",
        "Ans - The regularization parameter λ controls the strength of the penalty. A higher λ increases regularization, reducing overfitting but may underfit. A lower λ reduces the penalty, increasing model variance.\n",
        "\n",
        "9. What are the key assumptions of Logistic Regression\n",
        "\n",
        "Ans - Key assumptions include:\n",
        "- No multicollinearity\n",
        "- Large sample size\n",
        "- Linear relationship between log odds and independent variables\n",
        "- Independent observations\n",
        "\n",
        "10. What are some alternatives to Logistic Regression for classification tasks\n",
        "\n",
        "Ans - Alternatives include:\n",
        "- Decision Trees\n",
        "- Random Forest\n",
        "- Support Vector Machines (SVM)\n",
        "- Naive Bayes\n",
        "- Neural Networks\n",
        "\n",
        "11. What are Classification Evaluation Metrics\n",
        "\n",
        "Ans - Common metrics include:\n",
        "- Accuracy\n",
        "- Precision\n",
        "- Recall\n",
        "- F1-score\n",
        "- ROC-AUC\n",
        "- Confusion Matrix\n",
        "\n",
        "12. How does class imbalance affect Logistic Regression\n",
        "\n",
        "Ans - Class imbalance can bias the model toward the majority class. It may result in misleading accuracy. Techniques like resampling, class weights, and SMOTE can help mitigate this.\n",
        "\n",
        "13. What is Hyperparameter Tuning in Logistic Regression\n",
        "\n",
        "Ans - Hyperparameter tuning involves selecting the best parameters like regularization strength (C) and solver to optimize model performance, typically using techniques like GridSearchCV or RandomizedSearchCV.\n",
        "\n",
        "14. What are different solvers in Logistic Regression? Which one should be used\n",
        "\n",
        "Ans - Popular solvers include:\n",
        "- liblinear (good for small datasets and L1)\n",
        "- lbfgs (fast and supports multiclass)\n",
        "- saga (supports L1, L2, and Elastic Net, good for large datasets)\n",
        "Solver choice depends on data size and regularization.\n",
        "\n",
        "15. How is Logistic Regression extended for multiclass classification\n",
        "\n",
        "Ans - Logistic Regression is extended for multiclass using:\n",
        "- One-vs-Rest (OvR): Trains one classifier per class\n",
        "- Softmax Regression (Multinomial): Trains a single model for all classes simultaneously.\n",
        "\n",
        "16. What are the advantages and disadvantages of Logistic Regression\n",
        "\n",
        "Ans - Advantages:\n",
        "- Simple to implement and interpret\n",
        "- Works well with linearly separable data\n",
        "\n",
        "Disadvantages:\n",
        "- Assumes linear relationship between features and log odds\n",
        "- Not suitable for complex relationships\n",
        "\n",
        "17. What are some use cases of Logistic Regression\n",
        "\n",
        "Ans - Use cases:\n",
        "- Spam detection\n",
        "- Disease prediction\n",
        "- Credit scoring\n",
        "- Customer churn prediction\n",
        "- Marketing response prediction\n",
        "\n",
        "18. What is the difference between Softmax Regression and Logistic Regression\n",
        "\n",
        "Ans - Softmax Regression is a generalization of Logistic Regression for multiclass problems. Logistic is used for binary classification. Softmax outputs probabilities for each class summing to 1.\n",
        "\n",
        "19. How do we choose between One-vs-Rest (OvR) and Softmax for multiclass classification\n",
        "\n",
        "Ans - OvR is used when interpretability and simplicity are required. Softmax is preferred when classes are mutually exclusive and for better probabilistic interpretation.\n",
        "\n",
        "20. How do we interpret coefficients in Logistic Regression?\n",
        "\n",
        "Ans - Coefficients in Logistic Regression indicate the change in log-odds of the outcome for a one-unit increase in the predictor. A positive coefficient increases the likelihood of class 1, and a negative decreases it.\n"
      ],
      "metadata": {
        "id": "Lc6UFrrqB5he"
      }
    },
    {
      "cell_type": "code",
      "source": [
        "# 1. Write a Python program that loads a dataset, splits it into training and testing sets, applies Logistic Regression, and prints the model accuracy\n",
        "from sklearn.datasets import load_iris\n",
        "from sklearn.linear_model import LogisticRegression\n",
        "from sklearn.model_selection import train_test_split\n",
        "from sklearn.metrics import accuracy_score\n",
        "\n",
        "# Load dataset\n",
        "data = load_iris()\n",
        "X, y = data.data, data.target\n",
        "\n",
        "# Split into train and test\n",
        "X_train, X_test, y_train, y_test = train_test_split(X, y, test_size=0.2, random_state=42)\n",
        "\n",
        "# Train model\n",
        "model = LogisticRegression(max_iter=200)\n",
        "model.fit(X_train, y_train)\n",
        "\n",
        "# Evaluate\n",
        "y_pred = model.predict(X_test)\n",
        "print(\"Accuracy:\", accuracy_score(y_test, y_pred))\n",
        "\n"
      ],
      "metadata": {
        "colab": {
          "base_uri": "https://localhost:8080/"
        },
        "id": "pjyN6SH4CZ63",
        "outputId": "406b4e25-eb70-4e92-b01e-f014d7d9d63f"
      },
      "execution_count": 1,
      "outputs": [
        {
          "output_type": "stream",
          "name": "stdout",
          "text": [
            "Accuracy: 1.0\n"
          ]
        }
      ]
    },
    {
      "cell_type": "code",
      "source": [
        "#2. Write a Python program to apply L1 regularization (Lasso) on a dataset using LogisticRegression(penalty='l1') and print the model accuracy\n",
        "\n",
        "model = LogisticRegression(penalty='l1', solver='liblinear', max_iter=200)\n",
        "model.fit(X_train, y_train)\n",
        "print(\"L1 Regularization Accuracy:\", model.score(X_test, y_test))\n"
      ],
      "metadata": {
        "colab": {
          "base_uri": "https://localhost:8080/"
        },
        "id": "aADqTyoYFYZY",
        "outputId": "c1f34410-a14f-461a-97e0-d2a688a95b40"
      },
      "execution_count": 2,
      "outputs": [
        {
          "output_type": "stream",
          "name": "stdout",
          "text": [
            "L1 Regularization Accuracy: 1.0\n"
          ]
        }
      ]
    },
    {
      "cell_type": "code",
      "source": [
        "#3. Write a Python program to train Logistic Regression with L2 regularization (Ridge) using LogisticRegression(penalty='l2'). Print model accuracy and coefficients\n",
        "model = LogisticRegression(penalty='l2', max_iter=200)\n",
        "model.fit(X_train, y_train)\n",
        "print(\"L2 Regularization Accuracy:\", model.score(X_test, y_test))\n",
        "print(\"Model Coefficients:\", model.coef_)\n"
      ],
      "metadata": {
        "colab": {
          "base_uri": "https://localhost:8080/"
        },
        "id": "HGKx2mf9FggW",
        "outputId": "d07f0425-d89e-48e4-e3a5-5066d4b173b9"
      },
      "execution_count": 3,
      "outputs": [
        {
          "output_type": "stream",
          "name": "stdout",
          "text": [
            "L2 Regularization Accuracy: 1.0\n",
            "Model Coefficients: [[-0.39345607  0.96251768 -2.37512436 -0.99874594]\n",
            " [ 0.50843279 -0.25482714 -0.21301129 -0.77574766]\n",
            " [-0.11497673 -0.70769055  2.58813565  1.7744936 ]]\n"
          ]
        }
      ]
    },
    {
      "cell_type": "code",
      "source": [
        "#4. Write a Python program to train Logistic Regression with Elastic Net Regularization (penalty='elasticnet')\n",
        "model = LogisticRegression(penalty='elasticnet', solver='saga', l1_ratio=0.5, max_iter=500)\n",
        "model.fit(X_train, y_train)\n",
        "print(\"Elastic Net Accuracy:\", model.score(X_test, y_test))\n"
      ],
      "metadata": {
        "colab": {
          "base_uri": "https://localhost:8080/"
        },
        "id": "vIaTYodCFlcm",
        "outputId": "12f1fbd9-8389-4b8a-8d22-476904184623"
      },
      "execution_count": 4,
      "outputs": [
        {
          "output_type": "stream",
          "name": "stdout",
          "text": [
            "Elastic Net Accuracy: 1.0\n"
          ]
        },
        {
          "output_type": "stream",
          "name": "stderr",
          "text": [
            "/usr/local/lib/python3.11/dist-packages/sklearn/linear_model/_sag.py:348: ConvergenceWarning: The max_iter was reached which means the coef_ did not converge\n",
            "  warnings.warn(\n"
          ]
        }
      ]
    },
    {
      "cell_type": "code",
      "source": [
        "#5. Write a Python program to train a Logistic Regression model for multiclass classification using multi_class='ovr'\n",
        "model = LogisticRegression(multi_class='ovr', max_iter=200)\n",
        "model.fit(X_train, y_train)\n",
        "print(\"OvR Multiclass Accuracy:\", model.score(X_test, y_test))\n"
      ],
      "metadata": {
        "colab": {
          "base_uri": "https://localhost:8080/"
        },
        "id": "Bzsrw18vFq63",
        "outputId": "233c7a0c-a4fb-42b8-8356-b64751a91da6"
      },
      "execution_count": 5,
      "outputs": [
        {
          "output_type": "stream",
          "name": "stderr",
          "text": [
            "/usr/local/lib/python3.11/dist-packages/sklearn/linear_model/_logistic.py:1256: FutureWarning: 'multi_class' was deprecated in version 1.5 and will be removed in 1.7. Use OneVsRestClassifier(LogisticRegression(..)) instead. Leave it to its default value to avoid this warning.\n",
            "  warnings.warn(\n"
          ]
        },
        {
          "output_type": "stream",
          "name": "stdout",
          "text": [
            "OvR Multiclass Accuracy: 0.9666666666666667\n"
          ]
        }
      ]
    },
    {
      "cell_type": "code",
      "source": [
        "#6. Write a Python program to apply GridSearchCV to tune the hyperparameters (C and penalty) of Logistic Regression. Print the best parameters and accuracy\n",
        "from sklearn.model_selection import GridSearchCV\n",
        "\n",
        "param_grid = {\n",
        "    'C': [0.01, 0.1, 1, 10],\n",
        "    'penalty': ['l1', 'l2'],\n",
        "    'solver': ['liblinear']\n",
        "}\n",
        "grid = GridSearchCV(LogisticRegression(), param_grid, cv=5)\n",
        "grid.fit(X_train, y_train)\n",
        "\n",
        "print(\"Best Parameters:\", grid.best_params_)\n",
        "print(\"Best Accuracy:\", grid.best_score_)\n"
      ],
      "metadata": {
        "colab": {
          "base_uri": "https://localhost:8080/"
        },
        "id": "wIg_6M5_Fwwm",
        "outputId": "96ad9866-7b11-4fa6-eab5-bffa3970a335"
      },
      "execution_count": 6,
      "outputs": [
        {
          "output_type": "stream",
          "name": "stdout",
          "text": [
            "Best Parameters: {'C': 10, 'penalty': 'l1', 'solver': 'liblinear'}\n",
            "Best Accuracy: 0.9583333333333334\n"
          ]
        }
      ]
    },
    {
      "cell_type": "code",
      "source": [
        "#7. Write a Python program to evaluate Logistic Regression using Stratified K-Fold Cross-Validation. Print the average accuracy\n",
        "from sklearn.model_selection import StratifiedKFold, cross_val_score\n",
        "\n",
        "skf = StratifiedKFold(n_splits=5)\n",
        "scores = cross_val_score(LogisticRegression(max_iter=200), X, y, cv=skf)\n",
        "\n",
        "print(\"Cross-Validation Scores:\", scores)\n",
        "print(\"Average Accuracy:\", scores.mean())\n"
      ],
      "metadata": {
        "colab": {
          "base_uri": "https://localhost:8080/"
        },
        "id": "aCn4iYN2F4X-",
        "outputId": "5f395ada-90eb-4355-a5d4-9b38bff8e2de"
      },
      "execution_count": 7,
      "outputs": [
        {
          "output_type": "stream",
          "name": "stdout",
          "text": [
            "Cross-Validation Scores: [0.96666667 1.         0.93333333 0.96666667 1.        ]\n",
            "Average Accuracy: 0.9733333333333334\n"
          ]
        }
      ]
    },
    {
      "cell_type": "code",
      "source": [
        "#8 Write a Python program to load a dataset from a CSV file, apply Logistic Regression, and evaluate its accuracy\n",
        "\n",
        "import pandas as pd\n",
        "from sklearn.linear_model import LogisticRegression\n",
        "from sklearn.model_selection import train_test_split\n",
        "from sklearn.metrics import accuracy_score\n",
        "\n",
        "# Load dataset from CSV\n",
        "# Make sure your CSV file is named 'your_dataset.csv' and is in the same directory\n",
        "# or provide the full path to the file.\n",
        "# Replace 'your_dataset.csv' with the actual filename.\n",
        "try:\n",
        "    df = pd.read_csv('your_dataset.csv')\n",
        "except FileNotFoundError:\n",
        "    print(\"Error: 'your_dataset.csv' not found. Please upload the dataset or specify the correct path.\")\n",
        "    # You can add code here to load data differently, e.g., from Google Drive\n",
        "\n",
        "# Assuming the last column is the target variable and others are features\n",
        "# Adjust column names or indices based on your actual dataset structure\n",
        "# For example, if the target column is named 'target' and features are 'feature1', 'feature2', etc.\n",
        "# X = df[['feature1', 'feature2', ...]]\n",
        "# y = df['target']\n",
        "# If you don't have column names, you can use iloc:\n",
        "# X = df.iloc[:, :-1] # All columns except the last one\n",
        "# y = df.iloc[:, -1]  # The last column\n",
        "\n",
        "# IMPORTANT: Replace the following lines with code that correctly identifies your features (X) and target (y)\n",
        "# based on your CSV file's structure.\n",
        "# Example: Using the Iris dataset as a placeholder if the CSV isn't available or for demonstration\n",
        "from sklearn.datasets import load_iris\n",
        "data = load_iris()\n",
        "X, y = data.data, data.target\n",
        "# End of IMPORTANT section\n",
        "\n",
        "# Split into train and test\n",
        "X_train, X_test, y_train, y_test = train_test_split(X, y, test_size=0.2, random_state=42)\n",
        "\n",
        "# Train Logistic Regression model\n",
        "# You might need to increase max_iter for convergence depending on your dataset\n",
        "model = LogisticRegression(max_iter=200)\n",
        "model.fit(X_train, y_train)\n",
        "\n",
        "# Evaluate the model\n",
        "y_pred = model.predict(X_test)\n",
        "\n",
        "# Print accuracy\n",
        "accuracy = accuracy_score(y_test, y_pred)\n",
        "print(\"Model Accuracy:\", accuracy)"
      ],
      "metadata": {
        "colab": {
          "base_uri": "https://localhost:8080/"
        },
        "id": "a4I1dF9nGOkG",
        "outputId": "ab5e497d-ebd6-429c-ab83-34c6f6a24ccd"
      },
      "execution_count": 9,
      "outputs": [
        {
          "output_type": "stream",
          "name": "stdout",
          "text": [
            "Error: 'your_dataset.csv' not found. Please upload the dataset or specify the correct path.\n",
            "Model Accuracy: 1.0\n"
          ]
        }
      ]
    },
    {
      "cell_type": "code",
      "source": [
        "# 9. Write a Python program to apply RandomizedSearchCV for tuning hyperparameters (C, penalty, solver) in Logistic Regression. Print the best parameters and accuracy\n",
        "from sklearn.model_selection import RandomizedSearchCV\n",
        "\n",
        "param_dist = {\n",
        "    'C': [0.01, 0.1, 1, 10, 100],\n",
        "    'penalty': ['l1', 'l2'],\n",
        "    'solver': ['liblinear', 'saga']\n",
        "}\n",
        "\n",
        "random_search = RandomizedSearchCV(LogisticRegression(max_iter=500), param_distributions=param_dist, n_iter=10, cv=5)\n",
        "random_search.fit(X_train, y_train)\n",
        "\n",
        "print(\"Best Parameters:\", random_search.best_params_)\n",
        "print(\"Best Accuracy:\", random_search.best_score_)"
      ],
      "metadata": {
        "id": "z7NuS0KNGm92"
      },
      "execution_count": null,
      "outputs": []
    },
    {
      "cell_type": "code",
      "source": [
        "#10. Write a Python program to implement One-vs-One (OvO) Multiclass Logistic Regression and print accuracy\n",
        "from sklearn.multiclass import OneVsOneClassifier\n",
        "\n",
        "ovo_model = OneVsOneClassifier(LogisticRegression(max_iter=200))\n",
        "ovo_model.fit(X_train, y_train)\n",
        "print(\"OvO Accuracy:\", ovo_model.score(X_test, y_test))\n",
        "\n"
      ],
      "metadata": {
        "colab": {
          "base_uri": "https://localhost:8080/"
        },
        "id": "urbG56i8Gn0-",
        "outputId": "0f4841fd-81b6-4b74-f85b-5e46bc473597"
      },
      "execution_count": 11,
      "outputs": [
        {
          "output_type": "stream",
          "name": "stdout",
          "text": [
            "OvO Accuracy: 1.0\n"
          ]
        }
      ]
    },
    {
      "cell_type": "code",
      "source": [
        "#11. Write a Python program to train a Logistic Regression model and visualize the confusion matrix for binary classification\n",
        "from sklearn.metrics import confusion_matrix, ConfusionMatrixDisplay\n",
        "import matplotlib.pyplot as plt\n",
        "\n",
        "model = LogisticRegression()\n",
        "model.fit(X_train, y_train)\n",
        "y_pred = model.predict(X_test)\n",
        "\n",
        "cm = confusion_matrix(y_test, y_pred)\n",
        "disp = ConfusionMatrixDisplay(confusion_matrix=cm)\n",
        "disp.plot()\n",
        "plt.title(\"Confusion Matrix\")\n",
        "plt.show()\n",
        "\n"
      ],
      "metadata": {
        "colab": {
          "base_uri": "https://localhost:8080/",
          "height": 472
        },
        "id": "BPbt9jWYGtn2",
        "outputId": "f6378a3a-edd8-4d6b-a2b5-2104a7ee192c"
      },
      "execution_count": 12,
      "outputs": [
        {
          "output_type": "display_data",
          "data": {
            "text/plain": [
              "<Figure size 640x480 with 2 Axes>"
            ],
            "image/png": "[encoded data removed]"
          },
          "metadata": {}
        }
      ]
    },
    {
      "cell_type": "code",
      "source": [
        "#12. Write a Python program to train a Logistic Regression model and evaluate its performance using Precision, Recall, and F1-Score\n",
        "from sklearn.metrics import precision_score, recall_score, f1_score\n",
        "\n",
        "print(\"Precision:\", precision_score(y_test, y_pred, average='macro'))\n",
        "print(\"Recall:\", recall_score(y_test, y_pred, average='macro'))\n",
        "print(\"F1 Score:\", f1_score(y_test, y_pred, average='macro'))\n"
      ],
      "metadata": {
        "colab": {
          "base_uri": "https://localhost:8080/"
        },
        "id": "f06503C3Gzid",
        "outputId": "0163c6f0-88d5-4ffe-b3c3-4ee0502794b4"
      },
      "execution_count": 13,
      "outputs": [
        {
          "output_type": "stream",
          "name": "stdout",
          "text": [
            "Precision: 1.0\n",
            "Recall: 1.0\n",
            "F1 Score: 1.0\n"
          ]
        }
      ]
    },
    {
      "cell_type": "code",
      "source": [
        "#13. Write a Python program to train a Logistic Regression model on imbalanced data and apply class weights to improve model performance\n",
        "model = LogisticRegression(class_weight='balanced', max_iter=200)\n",
        "model.fit(X_train, y_train)\n",
        "print(\"Accuracy with Class Weights:\", model.score(X_test, y_test))\n"
      ],
      "metadata": {
        "colab": {
          "base_uri": "https://localhost:8080/"
        },
        "id": "TVIVY_wdG4E-",
        "outputId": "06bde9a8-2971-4160-9670-13ac7391c813"
      },
      "execution_count": 14,
      "outputs": [
        {
          "output_type": "stream",
          "name": "stdout",
          "text": [
            "Accuracy with Class Weights: 1.0\n"
          ]
        }
      ]
    },
    {
      "cell_type": "code",
      "source": [
        "#14 Write a Python program to train Logistic Regression on the Titanic dataset, handle missing values, and evaluate performance\n",
        "import seaborn as sns\n",
        "\n",
        "df = sns.load_dataset('titanic')\n",
        "df = df[['survived', 'sex', 'age', 'fare']].dropna()\n",
        "df['sex'] = df['sex'].map({'male': 0, 'female': 1})\n",
        "\n",
        "X = df[['sex', 'age', 'fare']]\n",
        "y = df['survived']\n",
        "X_train, X_test, y_train, y_test = train_test_split(X, y, test_size=0.2, random_state=42)\n",
        "\n",
        "model = LogisticRegression()\n",
        "model.fit(X_train, y_train)\n",
        "print(\"Titanic Dataset Accuracy:\", model.score(X_test, y_test))\n"
      ],
      "metadata": {
        "colab": {
          "base_uri": "https://localhost:8080/"
        },
        "id": "T14gAFyqG87G",
        "outputId": "a912ebe5-e864-4e85-c207-52de741b3b91"
      },
      "execution_count": 15,
      "outputs": [
        {
          "output_type": "stream",
          "name": "stdout",
          "text": [
            "Titanic Dataset Accuracy: 0.7482517482517482\n"
          ]
        }
      ]
    },
    {
      "cell_type": "code",
      "source": [
        "#15. Write a Python program to apply feature scaling (Standardization) before training a Logistic Regression model. Evaluate its accuracy and compare results with and without scaling\n",
        "from sklearn.preprocessing import StandardScaler\n",
        "\n",
        "# Without scaling\n",
        "model = LogisticRegression(max_iter=200)\n",
        "model.fit(X_train, y_train)\n",
        "print(\"Accuracy without scaling:\", model.score(X_test, y_test))\n",
        "\n",
        "# With scaling\n",
        "scaler = StandardScaler()\n",
        "X_train_scaled = scaler.fit_transform(X_train)\n",
        "X_test_scaled = scaler.transform(X_test)\n",
        "\n",
        "model_scaled = LogisticRegression(max_iter=200)\n",
        "model_scaled.fit(X_train_scaled, y_train)\n",
        "print(\"Accuracy with scaling:\", model_scaled.score(X_test_scaled, y_test))\n"
      ],
      "metadata": {
        "colab": {
          "base_uri": "https://localhost:8080/"
        },
        "id": "9g9_KwquHFJ2",
        "outputId": "284808fe-70e9-4910-b16f-47ed5e27841e"
      },
      "execution_count": 16,
      "outputs": [
        {
          "output_type": "stream",
          "name": "stdout",
          "text": [
            "Accuracy without scaling: 0.7482517482517482\n",
            "Accuracy with scaling: 0.7482517482517482\n"
          ]
        }
      ]
    },
    {
      "cell_type": "code",
      "source": [
        "#16. Write a Python program to train Logistic Regression and evaluate its performance using ROC-AUC score\n",
        "from sklearn.metrics import roc_auc_score\n",
        "from sklearn.preprocessing import label_binarize\n",
        "\n",
        "y_test_bin = label_binarize(y_test, classes=[0, 1, 2])  # use binary or multiclass accordingly\n",
        "y_pred_prob = model.predict_proba(X_test)\n",
        "\n",
        "print(\"ROC-AUC Score:\", roc_auc_score(y_test_bin, y_pred_prob, average='macro', multi_class='ovr'))\n"
      ],
      "metadata": {
        "colab": {
          "base_uri": "https://localhost:8080/"
        },
        "id": "ugQWO9KtHPH2",
        "outputId": "f0fb4381-9592-4a3b-b6e1-451291375005"
      },
      "execution_count": 17,
      "outputs": [
        {
          "output_type": "stream",
          "name": "stdout",
          "text": [
            "ROC-AUC Score: 0.7475369458128078\n"
          ]
        }
      ]
    },
    {
      "cell_type": "code",
      "source": [
        "#17. Write a Python program to train Logistic Regression using a custom learning rate (C=0.5) and evaluate accuracy\n",
        "\n",
        "model = LogisticRegression(C=0.5, max_iter=200)\n",
        "model.fit(X_train, y_train)\n",
        "print(\"Accuracy with C=0.5:\", model.score(X_test, y_test))\n"
      ],
      "metadata": {
        "colab": {
          "base_uri": "https://localhost:8080/"
        },
        "id": "7J_1WVcOHVO-",
        "outputId": "7d358c4b-b6de-4f7e-fff2-e6a140a0b2c8"
      },
      "execution_count": 18,
      "outputs": [
        {
          "output_type": "stream",
          "name": "stdout",
          "text": [
            "Accuracy with C=0.5: 0.7482517482517482\n"
          ]
        }
      ]
    },
    {
      "cell_type": "code",
      "source": [
        "# 18. Write a Python program to train Logistic Regression and identify important features based on model coefficients\n",
        "import numpy as np\n",
        "\n",
        "model = LogisticRegression(max_iter=200)\n",
        "model.fit(X_train, y_train)\n",
        "\n",
        "feature_names = data.feature_names  # use df.columns if working with a DataFrame\n",
        "coefficients = model.coef_\n",
        "\n",
        "for i, class_coeffs in enumerate(coefficients):\n",
        "    print(f\"\\nClass {i} Coefficients:\")\n",
        "    for name, coef in zip(feature_names, class_coeffs):\n",
        "        print(f\"{name}: {coef:.4f}\")\n"
      ],
      "metadata": {
        "colab": {
          "base_uri": "https://localhost:8080/"
        },
        "id": "YrqPJwOKHZd-",
        "outputId": "edf522e7-3bdd-4354-9b11-26ea8d81908f"
      },
      "execution_count": 19,
      "outputs": [
        {
          "output_type": "stream",
          "name": "stdout",
          "text": [
            "\n",
            "Class 0 Coefficients:\n",
            "sepal length (cm): 2.3703\n",
            "sepal width (cm): -0.0184\n",
            "petal length (cm): 0.0128\n"
          ]
        }
      ]
    },
    {
      "cell_type": "code",
      "source": [
        "# 19. Write a Python program to train Logistic Regression and evaluate its performance using Cohen’s Kappa Score\n",
        "\n",
        "from sklearn.metrics import cohen_kappa_score\n",
        "\n",
        "y_pred = model.predict(X_test)\n",
        "print(\"Cohen’s Kappa Score:\", cohen_kappa_score(y_test, y_pred))\n"
      ],
      "metadata": {
        "colab": {
          "base_uri": "https://localhost:8080/"
        },
        "id": "9LOCZd_vHiSG",
        "outputId": "05e4764b-c683-4f04-8a1e-beb0413fe662"
      },
      "execution_count": 20,
      "outputs": [
        {
          "output_type": "stream",
          "name": "stdout",
          "text": [
            "Cohen’s Kappa Score: 0.4716748768472906\n"
          ]
        }
      ]
    },
    {
      "cell_type": "code",
      "source": [
        "#20. Write a Python program to train Logistic Regression and visualize the Precision-Recall Curve for binary classification\n",
        "from sklearn.metrics import precision_recall_curve, PrecisionRecallDisplay\n",
        "\n",
        "# For binary classification\n",
        "model = LogisticRegression()\n",
        "model.fit(X_train, y_train)\n",
        "y_scores = model.predict_proba(X_test)[:, 1]\n",
        "\n",
        "precision, recall, _ = precision_recall_curve(y_test, y_scores)\n",
        "disp = PrecisionRecallDisplay(precision=precision, recall=recall)\n",
        "disp.plot()\n",
        "plt.title(\"Precision-Recall Curve\")\n",
        "plt.show()\n",
        "\n"
      ],
      "metadata": {
        "colab": {
          "base_uri": "https://localhost:8080/",
          "height": 472
        },
        "id": "4bU8Yq2RHm8l",
        "outputId": "fb92eb05-2185-4c1e-b398-fd2e643611d4"
      },
      "execution_count": 21,
      "outputs": [
        {
          "output_type": "display_data",
          "data": {
            "text/plain": [
              "<Figure size 640x480 with 1 Axes>"
            ],
            "image/png": "[encoded data removed]"
          },
          "metadata": {}
        }
      ]
    },
    {
      "cell_type": "code",
      "source": [
        "#21. Write a Python program to train Logistic Regression with different solvers (liblinear, saga, lbfgs) and compare their accuracy\n",
        "solvers = ['liblinear', 'saga', 'lbfgs']\n",
        "for solver in solvers:\n",
        "    model = LogisticRegression(solver=solver, max_iter=200)\n",
        "    model.fit(X_train, y_train)\n",
        "    print(f\"{solver} Accuracy:\", model.score(X_test, y_test))\n"
      ],
      "metadata": {
        "colab": {
          "base_uri": "https://localhost:8080/"
        },
        "id": "_HLLB8lOHtmO",
        "outputId": "71164395-5e15-4a7d-bf6b-cf85b24a1957"
      },
      "execution_count": 22,
      "outputs": [
        {
          "output_type": "stream",
          "name": "stdout",
          "text": [
            "liblinear Accuracy: 0.7482517482517482\n",
            "saga Accuracy: 0.6223776223776224\n",
            "lbfgs Accuracy: 0.7482517482517482\n"
          ]
        },
        {
          "output_type": "stream",
          "name": "stderr",
          "text": [
            "/usr/local/lib/python3.11/dist-packages/sklearn/linear_model/_sag.py:348: ConvergenceWarning: The max_iter was reached which means the coef_ did not converge\n",
            "  warnings.warn(\n"
          ]
        }
      ]
    },
    {
      "cell_type": "code",
      "source": [
        "# 22. Write a Python program to train Logistic Regression and evaluate its performance using Matthews Correlation Coefficient (MCC)\n",
        "\n",
        "from sklearn.metrics import matthews_corrcoef\n",
        "\n",
        "y_pred = model.predict(X_test)\n",
        "print(\"Matthews Correlation Coefficient:\", matthews_corrcoef(y_test, y_pred))\n"
      ],
      "metadata": {
        "colab": {
          "base_uri": "https://localhost:8080/"
        },
        "id": "oU3sDhhHHyue",
        "outputId": "d4d016f4-9b49-42d1-ac6a-2ea69e88e5fe"
      },
      "execution_count": 23,
      "outputs": [
        {
          "output_type": "stream",
          "name": "stdout",
          "text": [
            "Matthews Correlation Coefficient: 0.47167487684729065\n"
          ]
        }
      ]
    },
    {
      "cell_type": "code",
      "source": [
        "#23. Write a Python program to train Logistic Regression on both raw and standardized data. Compare their accuracy to see the impact of feature scaling\n",
        "# Raw\n",
        "model_raw = LogisticRegression(max_iter=200)\n",
        "model_raw.fit(X_train, y_train)\n",
        "acc_raw = model_raw.score(X_test, y_test)\n",
        "\n",
        "# Standardized\n",
        "scaler = StandardScaler()\n",
        "X_train_scaled = scaler.fit_transform(X_train)\n",
        "X_test_scaled = scaler.transform(X_test)\n",
        "\n",
        "model_scaled = LogisticRegression(max_iter=200)\n",
        "model_scaled.fit(X_train_scaled, y_train)\n",
        "acc_scaled = model_scaled.score(X_test_scaled, y_test)\n",
        "\n",
        "print(\"Raw Accuracy:\", acc_raw)\n",
        "print(\"Scaled Accuracy:\", acc_scaled)\n"
      ],
      "metadata": {
        "colab": {
          "base_uri": "https://localhost:8080/"
        },
        "id": "RIFUMG2qH21m",
        "outputId": "52e225da-b006-49af-bc31-77b9bc1b4bb5"
      },
      "execution_count": 24,
      "outputs": [
        {
          "output_type": "stream",
          "name": "stdout",
          "text": [
            "Raw Accuracy: 0.7482517482517482\n",
            "Scaled Accuracy: 0.7482517482517482\n"
          ]
        }
      ]
    },
    {
      "cell_type": "code",
      "source": [
        "# 24. Write a Python program to train Logistic Regression and find the optimal C (regularization strength) using cross-validation\n",
        "from sklearn.model_selection import cross_val_score\n",
        "\n",
        "C_values = [0.01, 0.1, 1, 10, 100]\n",
        "for c in C_values:\n",
        "    model = LogisticRegression(C=c, max_iter=200)\n",
        "    scores = cross_val_score(model, X, y, cv=5)\n",
        "    print(f\"C={c} Mean Accuracy:\", scores.mean())\n"
      ],
      "metadata": {
        "colab": {
          "base_uri": "https://localhost:8080/"
        },
        "id": "N-FkcDHdIA-G",
        "outputId": "cab7cc9e-4170-4c66-f1e3-7a74a293678c"
      },
      "execution_count": 25,
      "outputs": [
        {
          "output_type": "stream",
          "name": "stdout",
          "text": [
            "C=0.01 Mean Accuracy: 0.6933320200925834\n",
            "C=0.1 Mean Accuracy: 0.7731606421747267\n",
            "C=1 Mean Accuracy: 0.7745493942677042\n",
            "C=10 Mean Accuracy: 0.7745493942677042\n",
            "C=100 Mean Accuracy: 0.7745493942677042\n"
          ]
        }
      ]
    },
    {
      "cell_type": "code",
      "source": [
        "# 25. Write a Python program to train Logistic Regression, save the trained model using joblib, and load it again to make predictions\n",
        "import joblib\n",
        "\n",
        "# Train and save model\n",
        "model = LogisticRegression(max_iter=200)\n",
        "model.fit(X_train, y_train)\n",
        "joblib.dump(model, \"logistic_model.pkl\")\n",
        "\n",
        "# Load and predict\n",
        "loaded_model = joblib.load(\"logistic_model.pkl\")\n",
        "predictions = loaded_model.predict(X_test)\n",
        "print(\"Loaded Model Accuracy:\", accuracy_score(y_test, predictions))\n"
      ],
      "metadata": {
        "colab": {
          "base_uri": "https://localhost:8080/"
        },
        "id": "PwwyYUWbIJ_2",
        "outputId": "6403c2f8-37e2-4ab0-916d-eb5ad333afe8"
      },
      "execution_count": 26,
      "outputs": [
        {
          "output_type": "stream",
          "name": "stdout",
          "text": [
            "Loaded Model Accuracy: 0.7482517482517482\n"
          ]
        }
      ]
    }
  ]
}